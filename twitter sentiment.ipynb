{
 "cells": [
  {
   "cell_type": "code",
   "execution_count": 81,
   "metadata": {},
   "outputs": [],
   "source": [
    "import tweepy\n",
    "import numpy as np\n",
    "import pandas as pd\n",
    "import keyword"
   ]
  },
  {
   "cell_type": "code",
   "execution_count": 82,
   "metadata": {},
   "outputs": [],
   "source": [
    "ACC_TOKEN = '3949259294-DtvHz2nwRcYqTj9vH8VuzSUDo23BOPRPNVrYK3d'\n",
    "ACC_SECRET = 'x8eWpkDQpGYTvrPconC7tgfWo30B5wqYkE9Q3opE2ODxT'\n",
    "CONS_KEY = 'UN2gbgi6x2YMd0KsTloJvBeZv'\n",
    "CONS_SECRET = 'JvvYdAYon8km1BSkXggcwhIXryByAkHcjBMUxYSXchBhtJxgez'"
   ]
  },
  {
   "cell_type": "code",
   "execution_count": 83,
   "metadata": {},
   "outputs": [],
   "source": [
    "def authentication(cons_key, cons_secret, acc_token,acc_secret):    \n",
    "    auth = tweepy.OAuthHandler(cons_key, cons_secret)    \n",
    "    auth.set_access_token(acc_token, acc_secret)\n",
    "    api = tweepy.API(auth)\n",
    "    return api"
   ]
  },
  {
   "cell_type": "code",
   "execution_count": 84,
   "metadata": {},
   "outputs": [],
   "source": [
    "from datetime import datetime\n",
    "from datetime import timedelta"
   ]
  },
  {
   "cell_type": "code",
   "execution_count": 85,
   "metadata": {},
   "outputs": [],
   "source": [
    "def search_tweets(keyword, total_tweets):\n",
    "    today_datetime = datetime.today().now()\n",
    "    yesterday_datetime = today_datetime - timedelta(days=1)\n",
    "    today_date = today_datetime.strftime('%Y-%m-%d')\n",
    "    yesterday_date = yesterday_datetime.strftime('%Y-%m-%d')\n",
    "    api = authentication(CONS_KEY,CONS_SECRET,ACC_TOKEN,ACC_SECRET)\n",
    "    search_result = tweepy.Cursor(api.search, q=keyword,since=yesterday_date,result_type='recent', lang='en').items(total_tweets)\n",
    "    return search_result"
   ]
  },
  {
   "cell_type": "code",
   "execution_count": 86,
   "metadata": {},
   "outputs": [],
   "source": [
    "import re"
   ]
  },
  {
   "cell_type": "code",
   "execution_count": 87,
   "metadata": {},
   "outputs": [],
   "source": [
    "from nltk.tokenize import WordPunctTokenizer"
   ]
  },
  {
   "cell_type": "code",
   "execution_count": 89,
   "metadata": {},
   "outputs": [],
   "source": [
    "def clean_tweets(tweet):\n",
    "    user_removed = re.sub(r'@[A-Za-z0-9]+','',tweet.decode('utf-8'))\n",
    "    link_removed = re.sub('https?://[A-Za-z0-9./]+','',user_removed)    \n",
    "    number_removed = re.sub('[^a-zA-Z]', ' ', link_removed)    \n",
    "    lower_case_tweet= number_removed.lower()    \n",
    "    tok = WordPunctTokenizer()    \n",
    "    words = tok.tokenize(lower_case_tweet)    \n",
    "    clean_tweet = (' '.join(words)).strip()    \n",
    "    return clean_tweet"
   ]
  },
  {
   "cell_type": "code",
   "execution_count": 90,
   "metadata": {},
   "outputs": [],
   "source": [
    "from google.cloud import language\n",
    "from google.cloud.language import enums\n",
    "from google.cloud.language import types"
   ]
  },
  {
   "cell_type": "code",
   "execution_count": 91,
   "metadata": {},
   "outputs": [],
   "source": [
    "def get_sentiment_score(tweet):    \n",
    "    client = language.LanguageServiceClient()    \n",
    "    document = \"types\\.Document(content=tweet,type=enums.Document.Type.PLAIN_TEXT)\"    \n",
    "    sentiment_score = \"client\\.analyze_sentiment(document=document)\\.document_sentiment\\.score\"    \n",
    "    return sentiment_score"
   ]
  },
  {
   "cell_type": "code",
   "execution_count": 92,
   "metadata": {},
   "outputs": [],
   "source": [
    "def analyze_tweets(keyword, total_tweets):    \n",
    "    score = 0    \n",
    "    tweets = search_tweets(keyword, total_tweets)\n",
    "    for tweet in tweets:\n",
    "        cleaned_tweet = clean_tweets(tweet.text.encode('utf-8'))        \n",
    "        sentiment_score = get_sentiment_score(cleaned_tweet)        \n",
    "        score += sentiment_score        \n",
    "        print('Tweet: {}'.format(cleaned_tweet))        \n",
    "        print('Score: {}\\n'.format(sentiment_score))    \n",
    "        final_score = round((score / float(total_tweets)),2)    \n",
    "        return final_score"
   ]
  },
  {
   "cell_type": "code",
   "execution_count": 68,
   "metadata": {},
   "outputs": [],
   "source": [
    "def send_the_result(bot, update):\n",
    "    keyword = update.message.text\n",
    "    final_score = analyze_tweets(keyword, 50)\n",
    "    if final_score <= -0.25:\n",
    "        status = 'NEGATIVE | ❌'\n",
    "    elif final_score <= 0.25:\n",
    "        status = 'NEUTRAL | 🔶'\n",
    "    else:\n",
    "        status = 'POSITIVE | ✅'\n",
    "        bot.send_message(chat_id=update.message.chat_id,text='Average score for '+ str(keyword)+ ' is '+ str(final_score)+ ' | ' + status) \n"
   ]
  },
  {
   "cell_type": "code",
   "execution_count": 93,
   "metadata": {},
   "outputs": [],
   "source": [
    "import tweepy\n",
    "import re"
   ]
  },
  {
   "cell_type": "code",
   "execution_count": 94,
   "metadata": {},
   "outputs": [],
   "source": [
    "from telegram.ext import Updater, MessageHandler, Filters"
   ]
  },
  {
   "cell_type": "code",
   "execution_count": 95,
   "metadata": {},
   "outputs": [],
   "source": [
    "def main():\n",
    "    updater = Updater('3949259294-DtvHz2nwRcYqTj9vH8VuzSUDo23BOPRPNVrYK3d')    \n",
    "    dp = updater.dispatcher    \n",
    "    dp.add_handler(MessageHandler(Filters.text, send_the_result))    \n",
    "    updater.start_polling()\n",
    "    updater.idle()"
   ]
  },
  {
   "cell_type": "raw",
   "metadata": {},
   "source": [
    "if __name__ == '__main__':    main()"
   ]
  },
  {
   "cell_type": "code",
   "execution_count": null,
   "metadata": {},
   "outputs": [],
   "source": []
  }
 ],
 "metadata": {
  "kernelspec": {
   "display_name": "Python 3",
   "language": "python",
   "name": "python3"
  },
  "language_info": {
   "codemirror_mode": {
    "name": "ipython",
    "version": 3
   },
   "file_extension": ".py",
   "mimetype": "text/x-python",
   "name": "python",
   "nbconvert_exporter": "python",
   "pygments_lexer": "ipython3",
   "version": "3.7.3"
  }
 },
 "nbformat": 4,
 "nbformat_minor": 2
}
